{
 "cells": [
  {
   "cell_type": "code",
   "execution_count": 1,
   "id": "41826e4a",
   "metadata": {},
   "outputs": [],
   "source": [
    "import pandas as pd"
   ]
  },
  {
   "cell_type": "code",
   "execution_count": 6,
   "id": "0fb3b18a",
   "metadata": {},
   "outputs": [],
   "source": [
    "df=pd.read_clipboard() # Bir siteden tabloyu ctrl+c yapip bu kodu calistirinca tabloyu aliyor"
   ]
  },
  {
   "cell_type": "code",
   "execution_count": 5,
   "id": "2ea30e2a",
   "metadata": {},
   "outputs": [
    {
     "data": {
      "text/html": [
       "<div>\n",
       "<style scoped>\n",
       "    .dataframe tbody tr th:only-of-type {\n",
       "        vertical-align: middle;\n",
       "    }\n",
       "\n",
       "    .dataframe tbody tr th {\n",
       "        vertical-align: top;\n",
       "    }\n",
       "\n",
       "    .dataframe thead th {\n",
       "        text-align: right;\n",
       "    }\n",
       "</style>\n",
       "<table border=\"1\" class=\"dataframe\">\n",
       "  <thead>\n",
       "    <tr style=\"text-align: right;\">\n",
       "      <th></th>\n",
       "      <th>Company</th>\n",
       "      <th>Contact</th>\n",
       "      <th>Country</th>\n",
       "    </tr>\n",
       "  </thead>\n",
       "  <tbody>\n",
       "    <tr>\n",
       "      <th>0</th>\n",
       "      <td>Alfreds Futterkiste</td>\n",
       "      <td>Maria Anders</td>\n",
       "      <td>Germany</td>\n",
       "    </tr>\n",
       "    <tr>\n",
       "      <th>1</th>\n",
       "      <td>Centro comercial Moctezuma</td>\n",
       "      <td>Francisco Chang</td>\n",
       "      <td>Mexico</td>\n",
       "    </tr>\n",
       "    <tr>\n",
       "      <th>2</th>\n",
       "      <td>Ernst Handel</td>\n",
       "      <td>Roland Mendel</td>\n",
       "      <td>Austria</td>\n",
       "    </tr>\n",
       "    <tr>\n",
       "      <th>3</th>\n",
       "      <td>Island Trading</td>\n",
       "      <td>Helen Bennett</td>\n",
       "      <td>UK</td>\n",
       "    </tr>\n",
       "    <tr>\n",
       "      <th>4</th>\n",
       "      <td>Laughing Bacchus Winecellars</td>\n",
       "      <td>Yoshi Tannamuri</td>\n",
       "      <td>Canada</td>\n",
       "    </tr>\n",
       "    <tr>\n",
       "      <th>5</th>\n",
       "      <td>Magazzini Alimentari Riuniti</td>\n",
       "      <td>Giovanni Rovelli</td>\n",
       "      <td>Italy</td>\n",
       "    </tr>\n",
       "  </tbody>\n",
       "</table>\n",
       "</div>"
      ],
      "text/plain": [
       "                        Company           Contact  Country\n",
       "0           Alfreds Futterkiste      Maria Anders  Germany\n",
       "1    Centro comercial Moctezuma   Francisco Chang   Mexico\n",
       "2                  Ernst Handel     Roland Mendel  Austria\n",
       "3                Island Trading     Helen Bennett       UK\n",
       "4  Laughing Bacchus Winecellars   Yoshi Tannamuri   Canada\n",
       "5  Magazzini Alimentari Riuniti  Giovanni Rovelli    Italy"
      ]
     },
     "execution_count": 5,
     "metadata": {},
     "output_type": "execute_result"
    }
   ],
   "source": [
    "df"
   ]
  },
  {
   "cell_type": "code",
   "execution_count": 8,
   "id": "974154cb",
   "metadata": {},
   "outputs": [],
   "source": [
    "df.to_csv(\"webdengelen.csv\") # Bu tabloyu webdengelen.csv diye kaydettik"
   ]
  },
  {
   "cell_type": "code",
   "execution_count": 10,
   "id": "e3b58040",
   "metadata": {
    "collapsed": true
   },
   "outputs": [
    {
     "name": "stdout",
     "output_type": "stream",
     "text": [
      "Collecting beautifulsoup\n",
      "  Downloading BeautifulSoup-3.2.2.tar.gz (32 kB)\n",
      "  Downloading BeautifulSoup-3.2.1.tar.gz (31 kB)\n",
      "  Downloading BeautifulSoup-3.2.0.tar.gz (31 kB)\n",
      "Note: you may need to restart the kernel to use updated packages.\n"
     ]
    },
    {
     "name": "stderr",
     "output_type": "stream",
     "text": [
      "    ERROR: Command errored out with exit status 1:\n",
      "     command: 'C:\\Users\\Utilisateur\\anaconda3\\python.exe' -c 'import io, os, sys, setuptools, tokenize; sys.argv[0] = '\"'\"'C:\\\\Users\\\\Utilisateur\\\\AppData\\\\Local\\\\Temp\\\\pip-install-a_rmkdio\\\\beautifulsoup_af8fa1dc9bbd4889ae467410b8a15c88\\\\setup.py'\"'\"'; __file__='\"'\"'C:\\\\Users\\\\Utilisateur\\\\AppData\\\\Local\\\\Temp\\\\pip-install-a_rmkdio\\\\beautifulsoup_af8fa1dc9bbd4889ae467410b8a15c88\\\\setup.py'\"'\"';f = getattr(tokenize, '\"'\"'open'\"'\"', open)(__file__) if os.path.exists(__file__) else io.StringIO('\"'\"'from setuptools import setup; setup()'\"'\"');code = f.read().replace('\"'\"'\\r\\n'\"'\"', '\"'\"'\\n'\"'\"');f.close();exec(compile(code, __file__, '\"'\"'exec'\"'\"'))' egg_info --egg-base 'C:\\Users\\Utilisateur\\AppData\\Local\\Temp\\pip-pip-egg-info-k7pvpqp3'\n",
      "         cwd: C:\\Users\\Utilisateur\\AppData\\Local\\Temp\\pip-install-a_rmkdio\\beautifulsoup_af8fa1dc9bbd4889ae467410b8a15c88\\\n",
      "    Complete output (6 lines):\n",
      "    Traceback (most recent call last):\n",
      "      File \"<string>\", line 1, in <module>\n",
      "      File \"C:\\Users\\Utilisateur\\AppData\\Local\\Temp\\pip-install-a_rmkdio\\beautifulsoup_af8fa1dc9bbd4889ae467410b8a15c88\\setup.py\", line 3\n",
      "        \"You're trying to run a very old release of Beautiful Soup under Python 3. This will not work.\"<>\"Please use Beautiful Soup 4, available through the pip package 'beautifulsoup4'.\"\n",
      "                                                                                                       ^\n",
      "    SyntaxError: invalid syntax\n",
      "    ----------------------------------------\n",
      "WARNING: Discarding https://files.pythonhosted.org/packages/40/f2/6c9f2f3e696ee6a1fb0e4d7850617e224ed2b0b1e872110abffeca2a09d4/BeautifulSoup-3.2.2.tar.gz#sha256=a04169602bff6e3138b1259dbbf491f5a27f9499dea9a8fbafd48843f9d89970 (from https://pypi.org/simple/beautifulsoup/). Command errored out with exit status 1: python setup.py egg_info Check the logs for full command output.\n",
      "    ERROR: Command errored out with exit status 1:\n",
      "     command: 'C:\\Users\\Utilisateur\\anaconda3\\python.exe' -c 'import io, os, sys, setuptools, tokenize; sys.argv[0] = '\"'\"'C:\\\\Users\\\\Utilisateur\\\\AppData\\\\Local\\\\Temp\\\\pip-install-a_rmkdio\\\\beautifulsoup_28daaf04fb0c48919411efa1a81e4c58\\\\setup.py'\"'\"'; __file__='\"'\"'C:\\\\Users\\\\Utilisateur\\\\AppData\\\\Local\\\\Temp\\\\pip-install-a_rmkdio\\\\beautifulsoup_28daaf04fb0c48919411efa1a81e4c58\\\\setup.py'\"'\"';f = getattr(tokenize, '\"'\"'open'\"'\"', open)(__file__) if os.path.exists(__file__) else io.StringIO('\"'\"'from setuptools import setup; setup()'\"'\"');code = f.read().replace('\"'\"'\\r\\n'\"'\"', '\"'\"'\\n'\"'\"');f.close();exec(compile(code, __file__, '\"'\"'exec'\"'\"'))' egg_info --egg-base 'C:\\Users\\Utilisateur\\AppData\\Local\\Temp\\pip-pip-egg-info-5tmh4dmr'\n",
      "         cwd: C:\\Users\\Utilisateur\\AppData\\Local\\Temp\\pip-install-a_rmkdio\\beautifulsoup_28daaf04fb0c48919411efa1a81e4c58\\\n",
      "    Complete output (6 lines):\n",
      "    Traceback (most recent call last):\n",
      "      File \"<string>\", line 1, in <module>\n",
      "      File \"C:\\Users\\Utilisateur\\AppData\\Local\\Temp\\pip-install-a_rmkdio\\beautifulsoup_28daaf04fb0c48919411efa1a81e4c58\\setup.py\", line 22\n",
      "        print \"Unit tests have failed!\"\n",
      "              ^\n",
      "    SyntaxError: Missing parentheses in call to 'print'. Did you mean print(\"Unit tests have failed!\")?\n",
      "    ----------------------------------------\n",
      "WARNING: Discarding https://files.pythonhosted.org/packages/1e/ee/295988deca1a5a7accd783d0dfe14524867e31abb05b6c0eeceee49c759d/BeautifulSoup-3.2.1.tar.gz#sha256=6a8cb4401111e011b579c8c52a51cdab970041cc543814bbd9577a4529fe1cdb (from https://pypi.org/simple/beautifulsoup/). Command errored out with exit status 1: python setup.py egg_info Check the logs for full command output.\n",
      "    ERROR: Command errored out with exit status 1:\n",
      "     command: 'C:\\Users\\Utilisateur\\anaconda3\\python.exe' -c 'import io, os, sys, setuptools, tokenize; sys.argv[0] = '\"'\"'C:\\\\Users\\\\Utilisateur\\\\AppData\\\\Local\\\\Temp\\\\pip-install-a_rmkdio\\\\beautifulsoup_c45050abd69942e48d40ea996a247535\\\\setup.py'\"'\"'; __file__='\"'\"'C:\\\\Users\\\\Utilisateur\\\\AppData\\\\Local\\\\Temp\\\\pip-install-a_rmkdio\\\\beautifulsoup_c45050abd69942e48d40ea996a247535\\\\setup.py'\"'\"';f = getattr(tokenize, '\"'\"'open'\"'\"', open)(__file__) if os.path.exists(__file__) else io.StringIO('\"'\"'from setuptools import setup; setup()'\"'\"');code = f.read().replace('\"'\"'\\r\\n'\"'\"', '\"'\"'\\n'\"'\"');f.close();exec(compile(code, __file__, '\"'\"'exec'\"'\"'))' egg_info --egg-base 'C:\\Users\\Utilisateur\\AppData\\Local\\Temp\\pip-pip-egg-info-9zeishhf'\n",
      "         cwd: C:\\Users\\Utilisateur\\AppData\\Local\\Temp\\pip-install-a_rmkdio\\beautifulsoup_c45050abd69942e48d40ea996a247535\\\n",
      "    Complete output (6 lines):\n",
      "    Traceback (most recent call last):\n",
      "      File \"<string>\", line 1, in <module>\n",
      "      File \"C:\\Users\\Utilisateur\\AppData\\Local\\Temp\\pip-install-a_rmkdio\\beautifulsoup_c45050abd69942e48d40ea996a247535\\setup.py\", line 22\n",
      "        print \"Unit tests have failed!\"\n",
      "              ^\n",
      "    SyntaxError: Missing parentheses in call to 'print'. Did you mean print(\"Unit tests have failed!\")?\n",
      "    ----------------------------------------\n",
      "WARNING: Discarding https://files.pythonhosted.org/packages/33/fe/15326560884f20d792d3ffc7fe8f639aab88647c9d46509a240d9bfbb6b1/BeautifulSoup-3.2.0.tar.gz#sha256=0dc52d07516c1665c9dd9f0a390a7a054bfb7b147a50b2866fb116b8909dfd37 (from https://pypi.org/simple/beautifulsoup/). Command errored out with exit status 1: python setup.py egg_info Check the logs for full command output.\n",
      "ERROR: Could not find a version that satisfies the requirement beautifulsoup (from versions: 3.2.0, 3.2.1, 3.2.2)\n",
      "ERROR: No matching distribution found for beautifulsoup\n"
     ]
    }
   ],
   "source": [
    "#pip install beautifulsoup"
   ]
  },
  {
   "cell_type": "code",
   "execution_count": 11,
   "id": "3b141826",
   "metadata": {},
   "outputs": [],
   "source": [
    "from bs4 import BeautifulSoup\n",
    "import requests \n",
    "# request bizden bir html istiyor ama normal htmli tanimiyor. bunun icin bilgisayarimizdan server kurup html i calistirmamiz lazim "
   ]
  },
  {
   "cell_type": "code",
   "execution_count": 22,
   "id": "f42f108f",
   "metadata": {},
   "outputs": [],
   "source": [
    " page=requests.get(\"http://localhost:8000/\") # requests ile internet sayfasinfan veri alabiliriz"
   ]
  },
  {
   "cell_type": "code",
   "execution_count": 23,
   "id": "63116bd3",
   "metadata": {},
   "outputs": [
    {
     "data": {
      "text/plain": [
       "b'<html>\\r\\n<title> Ilk Web Sayfam</title>\\r\\n\\r\\n<meta http-equiv=\"Content-Type\" content=\"text/html; charset=utf-8\" />\\r\\n\\r\\n<meta keywords=\"AI, Yapay Zeka, Data Science\">\\r\\n\\r\\n<body>\\r\\n\\r\\n<h1>Sessiz Gemi</h1>\\r\\n<p>\\r\\n<pre>Art\\xc4\\xb1k demir almak g\\xc3\\xbcn\\xc3\\xbc gelmi\\xc5\\x9fse zamandan\\r\\nMe\\xc3\\xa7hule giden bir gemi kalkar bu limandan\\r\\nHi\\xc3\\xa7 yolcusu yokmu\\xc5\\x9f gibi al\\xc4\\xb1r yol\\r\\nSallanmaz o kalk\\xc4\\xb1\\xc5\\x9fta ne mendil ne de bir kol\\r\\n</pre>\\r\\n</p>\\r\\n<table border=\"1\" width=\"300\">\\r\\n<tr>\\r\\n<td>\\xc4\\xb0sim</td><td>Not</td\\r\\n</tr>\\r\\n<tr>\\r\\n<td>Ali</td><td>90</td\\r\\n</tr>\\r\\n<tr>\\r\\n<td>Veli</td><td>100</td\\r\\n</tr>\\r\\n<tr>\\r\\n<td>Ayse</td><td>99</td\\r\\n</tr>\\r\\n</table>\\r\\n<table>\\r\\n  <tr>\\r\\n    <th>Company</th>\\r\\n    <th>Contact</th>\\r\\n    <th>Country</th>\\r\\n  </tr>\\r\\n  <tr>\\r\\n    <td>Alfreds Futterkiste</td>\\r\\n    <td>Maria Anders</td>\\r\\n    <td>Germany</td>\\r\\n  </tr>\\r\\n  <tr>\\r\\n    <td>Centro comercial Moctezuma</td>\\r\\n    <td>Francisco Chang</td>\\r\\n    <td>Mexico</td>\\r\\n  </tr>\\r\\n</table>\\r\\n<marquee> <font color=red size=7> Yapay Zekayi seviyorum</font></marquee>\\r\\n\\r\\n<marquee direction=right> <font color=green size=7> Yapay Zekayi seviyorum</font></marquee>\\r\\n<marquee><img src=kus.jpg ></marquee>\\r\\n<a href=http://www.cnn.com target=blank>CNN</a>\\r\\n</body>\\r\\n</html>'"
      ]
     },
     "execution_count": 23,
     "metadata": {},
     "output_type": "execute_result"
    }
   ],
   "source": [
    "page.content # icerigini gorduk ama karisik gorunuyor.beautifulsoup ile guzelestirelim"
   ]
  },
  {
   "cell_type": "code",
   "execution_count": 24,
   "id": "1a04f72a",
   "metadata": {},
   "outputs": [],
   "source": [
    "soup=BeautifulSoup(page.content,'html.parser')"
   ]
  },
  {
   "cell_type": "code",
   "execution_count": 25,
   "id": "9080c4dc",
   "metadata": {},
   "outputs": [
    {
     "data": {
      "text/plain": [
       "<bound method Tag.prettify of <html>\n",
       "<title> Ilk Web Sayfam</title>\n",
       "<meta content=\"text/html; charset=utf-8\" http-equiv=\"Content-Type\"/>\n",
       "<meta keywords=\"AI, Yapay Zeka, Data Science\"/>\n",
       "<body>\n",
       "<h1>Sessiz Gemi</h1>\n",
       "<p>\n",
       "<pre>Artık demir almak günü gelmişse zamandan\n",
       "Meçhule giden bir gemi kalkar bu limandan\n",
       "Hiç yolcusu yokmuş gibi alır yol\n",
       "Sallanmaz o kalkışta ne mendil ne de bir kol\n",
       "</pre>\n",
       "</p>\n",
       "<table border=\"1\" width=\"300\">\n",
       "<tr>\n",
       "<td>İsim</td><td>Not</td>\n",
       "<tr>\n",
       "<td>Ali</td><td>90</td>\n",
       "<tr>\n",
       "<td>Veli</td><td>100</td>\n",
       "<tr>\n",
       "<td>Ayse</td><td>99</td>\n",
       "</tr></tr></tr></tr></table>\n",
       "<table>\n",
       "<tr>\n",
       "<th>Company</th>\n",
       "<th>Contact</th>\n",
       "<th>Country</th>\n",
       "</tr>\n",
       "<tr>\n",
       "<td>Alfreds Futterkiste</td>\n",
       "<td>Maria Anders</td>\n",
       "<td>Germany</td>\n",
       "</tr>\n",
       "<tr>\n",
       "<td>Centro comercial Moctezuma</td>\n",
       "<td>Francisco Chang</td>\n",
       "<td>Mexico</td>\n",
       "</tr>\n",
       "</table>\n",
       "<marquee> <font color=\"red\" size=\"7\"> Yapay Zekayi seviyorum</font></marquee>\n",
       "<marquee direction=\"right\"> <font color=\"green\" size=\"7\"> Yapay Zekayi seviyorum</font></marquee>\n",
       "<marquee><img src=\"kus.jpg\"/></marquee>\n",
       "<a href=\"http://www.cnn.com\" target=\"blank\">CNN</a>\n",
       "</body>\n",
       "</html>>"
      ]
     },
     "execution_count": 25,
     "metadata": {},
     "output_type": "execute_result"
    }
   ],
   "source": [
    "soup.prettify # icerigi duzgun gorduk"
   ]
  },
  {
   "cell_type": "code",
   "execution_count": 26,
   "id": "db24147f",
   "metadata": {},
   "outputs": [],
   "source": [
    "html=soup.find(\"html\") #html tagi icindeki bilgileri aldik"
   ]
  },
  {
   "cell_type": "code",
   "execution_count": 27,
   "id": "16f33627",
   "metadata": {},
   "outputs": [
    {
     "data": {
      "text/plain": [
       "<html>\n",
       "<title> Ilk Web Sayfam</title>\n",
       "<meta content=\"text/html; charset=utf-8\" http-equiv=\"Content-Type\"/>\n",
       "<meta keywords=\"AI, Yapay Zeka, Data Science\"/>\n",
       "<body>\n",
       "<h1>Sessiz Gemi</h1>\n",
       "<p>\n",
       "<pre>Artık demir almak günü gelmişse zamandan\n",
       "Meçhule giden bir gemi kalkar bu limandan\n",
       "Hiç yolcusu yokmuş gibi alır yol\n",
       "Sallanmaz o kalkışta ne mendil ne de bir kol\n",
       "</pre>\n",
       "</p>\n",
       "<table border=\"1\" width=\"300\">\n",
       "<tr>\n",
       "<td>İsim</td><td>Not</td>\n",
       "<tr>\n",
       "<td>Ali</td><td>90</td>\n",
       "<tr>\n",
       "<td>Veli</td><td>100</td>\n",
       "<tr>\n",
       "<td>Ayse</td><td>99</td>\n",
       "</tr></tr></tr></tr></table>\n",
       "<table>\n",
       "<tr>\n",
       "<th>Company</th>\n",
       "<th>Contact</th>\n",
       "<th>Country</th>\n",
       "</tr>\n",
       "<tr>\n",
       "<td>Alfreds Futterkiste</td>\n",
       "<td>Maria Anders</td>\n",
       "<td>Germany</td>\n",
       "</tr>\n",
       "<tr>\n",
       "<td>Centro comercial Moctezuma</td>\n",
       "<td>Francisco Chang</td>\n",
       "<td>Mexico</td>\n",
       "</tr>\n",
       "</table>\n",
       "<marquee> <font color=\"red\" size=\"7\"> Yapay Zekayi seviyorum</font></marquee>\n",
       "<marquee direction=\"right\"> <font color=\"green\" size=\"7\"> Yapay Zekayi seviyorum</font></marquee>\n",
       "<marquee><img src=\"kus.jpg\"/></marquee>\n",
       "<a href=\"http://www.cnn.com\" target=\"blank\">CNN</a>\n",
       "</body>\n",
       "</html>"
      ]
     },
     "execution_count": 27,
     "metadata": {},
     "output_type": "execute_result"
    }
   ],
   "source": [
    "html"
   ]
  },
  {
   "cell_type": "code",
   "execution_count": 28,
   "id": "f6be45f4",
   "metadata": {},
   "outputs": [
    {
     "data": {
      "text/plain": [
       "'\\nArtık demir almak günü gelmişse zamandan\\r\\nMeçhule giden bir gemi kalkar bu limandan\\r\\nHiç yolcusu yokmuş gibi alır yol\\r\\nSallanmaz o kalkışta ne mendil ne de bir kol\\r\\n\\n'"
      ]
     },
     "execution_count": 28,
     "metadata": {},
     "output_type": "execute_result"
    }
   ],
   "source": [
    "html.p.text # html icindeki p icindeki texti aldik"
   ]
  },
  {
   "cell_type": "code",
   "execution_count": 29,
   "id": "c5b099c6",
   "metadata": {},
   "outputs": [],
   "source": [
    "df=pd.read_html(page.content) # Bu contentin  icnden tablo varsa getiriyor"
   ]
  },
  {
   "cell_type": "code",
   "execution_count": 31,
   "id": "5e29184f",
   "metadata": {},
   "outputs": [
    {
     "data": {
      "text/html": [
       "<div>\n",
       "<style scoped>\n",
       "    .dataframe tbody tr th:only-of-type {\n",
       "        vertical-align: middle;\n",
       "    }\n",
       "\n",
       "    .dataframe tbody tr th {\n",
       "        vertical-align: top;\n",
       "    }\n",
       "\n",
       "    .dataframe thead th {\n",
       "        text-align: right;\n",
       "    }\n",
       "</style>\n",
       "<table border=\"1\" class=\"dataframe\">\n",
       "  <thead>\n",
       "    <tr style=\"text-align: right;\">\n",
       "      <th></th>\n",
       "      <th>0</th>\n",
       "      <th>1</th>\n",
       "    </tr>\n",
       "  </thead>\n",
       "  <tbody>\n",
       "    <tr>\n",
       "      <th>0</th>\n",
       "      <td>İsim</td>\n",
       "      <td>Not</td>\n",
       "    </tr>\n",
       "    <tr>\n",
       "      <th>1</th>\n",
       "      <td>Ali</td>\n",
       "      <td>90</td>\n",
       "    </tr>\n",
       "    <tr>\n",
       "      <th>2</th>\n",
       "      <td>Veli</td>\n",
       "      <td>100</td>\n",
       "    </tr>\n",
       "    <tr>\n",
       "      <th>3</th>\n",
       "      <td>Ayse</td>\n",
       "      <td>99</td>\n",
       "    </tr>\n",
       "  </tbody>\n",
       "</table>\n",
       "</div>"
      ],
      "text/plain": [
       "      0    1\n",
       "0  İsim  Not\n",
       "1   Ali   90\n",
       "2  Veli  100\n",
       "3  Ayse   99"
      ]
     },
     "execution_count": 31,
     "metadata": {},
     "output_type": "execute_result"
    }
   ],
   "source": [
    "df[0] # EGER birden cok tablo varsa df[0] df[1]... diyerek tum tablolari alip sonra append ile birlestirebiliriz"
   ]
  },
  {
   "cell_type": "code",
   "execution_count": 32,
   "id": "8c9b99b7",
   "metadata": {},
   "outputs": [
    {
     "data": {
      "text/html": [
       "<div>\n",
       "<style scoped>\n",
       "    .dataframe tbody tr th:only-of-type {\n",
       "        vertical-align: middle;\n",
       "    }\n",
       "\n",
       "    .dataframe tbody tr th {\n",
       "        vertical-align: top;\n",
       "    }\n",
       "\n",
       "    .dataframe thead th {\n",
       "        text-align: right;\n",
       "    }\n",
       "</style>\n",
       "<table border=\"1\" class=\"dataframe\">\n",
       "  <thead>\n",
       "    <tr style=\"text-align: right;\">\n",
       "      <th></th>\n",
       "      <th>Company</th>\n",
       "      <th>Contact</th>\n",
       "      <th>Country</th>\n",
       "    </tr>\n",
       "  </thead>\n",
       "  <tbody>\n",
       "    <tr>\n",
       "      <th>0</th>\n",
       "      <td>Alfreds Futterkiste</td>\n",
       "      <td>Maria Anders</td>\n",
       "      <td>Germany</td>\n",
       "    </tr>\n",
       "    <tr>\n",
       "      <th>1</th>\n",
       "      <td>Centro comercial Moctezuma</td>\n",
       "      <td>Francisco Chang</td>\n",
       "      <td>Mexico</td>\n",
       "    </tr>\n",
       "  </tbody>\n",
       "</table>\n",
       "</div>"
      ],
      "text/plain": [
       "                      Company          Contact  Country\n",
       "0         Alfreds Futterkiste     Maria Anders  Germany\n",
       "1  Centro comercial Moctezuma  Francisco Chang   Mexico"
      ]
     },
     "execution_count": 32,
     "metadata": {},
     "output_type": "execute_result"
    }
   ],
   "source": [
    "df[1]"
   ]
  },
  {
   "cell_type": "code",
   "execution_count": 33,
   "id": "16f844c9",
   "metadata": {},
   "outputs": [
    {
     "data": {
      "text/plain": [
       "'\\n Ilk Web Sayfam\\n\\n\\n\\nSessiz Gemi\\n\\nArtık demir almak günü gelmişse zamandan\\r\\nMeçhule giden bir gemi kalkar bu limandan\\r\\nHiç yolcusu yokmuş gibi alır yol\\r\\nSallanmaz o kalkışta ne mendil ne de bir kol\\r\\n\\n\\n\\n\\nİsimNot\\n\\nAli90\\n\\nVeli100\\n\\nAyse99\\n\\n\\n\\nCompany\\nContact\\nCountry\\n\\n\\nAlfreds Futterkiste\\nMaria Anders\\nGermany\\n\\n\\nCentro comercial Moctezuma\\nFrancisco Chang\\nMexico\\n\\n\\n  Yapay Zekayi seviyorum\\n  Yapay Zekayi seviyorum\\n\\nCNN\\n\\n'"
      ]
     },
     "execution_count": 33,
     "metadata": {},
     "output_type": "execute_result"
    }
   ],
   "source": [
    "html.text"
   ]
  },
  {
   "cell_type": "code",
   "execution_count": 34,
   "id": "0fc26f7e",
   "metadata": {},
   "outputs": [],
   "source": [
    "p=soup.find(\"p\") # html icinde p taglarini buluyor"
   ]
  },
  {
   "cell_type": "code",
   "execution_count": 35,
   "id": "def01dd3",
   "metadata": {},
   "outputs": [
    {
     "data": {
      "text/plain": [
       "<p>\n",
       "<pre>Artık demir almak günü gelmişse zamandan\n",
       "Meçhule giden bir gemi kalkar bu limandan\n",
       "Hiç yolcusu yokmuş gibi alır yol\n",
       "Sallanmaz o kalkışta ne mendil ne de bir kol\n",
       "</pre>\n",
       "</p>"
      ]
     },
     "execution_count": 35,
     "metadata": {},
     "output_type": "execute_result"
    }
   ],
   "source": [
    "p"
   ]
  },
  {
   "cell_type": "code",
   "execution_count": null,
   "id": "e503c6d0",
   "metadata": {},
   "outputs": [],
   "source": []
  }
 ],
 "metadata": {
  "kernelspec": {
   "display_name": "Python 3 (ipykernel)",
   "language": "python",
   "name": "python3"
  },
  "language_info": {
   "codemirror_mode": {
    "name": "ipython",
    "version": 3
   },
   "file_extension": ".py",
   "mimetype": "text/x-python",
   "name": "python",
   "nbconvert_exporter": "python",
   "pygments_lexer": "ipython3",
   "version": "3.9.12"
  }
 },
 "nbformat": 4,
 "nbformat_minor": 5
}
