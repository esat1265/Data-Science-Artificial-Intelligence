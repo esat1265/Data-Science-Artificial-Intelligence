{
 "cells": [
  {
   "cell_type": "markdown",
   "id": "778a5f7b",
   "metadata": {},
   "source": [
    "## Twitter'dan veri Cekme-2"
   ]
  },
  {
   "cell_type": "markdown",
   "id": "196e1ad1",
   "metadata": {},
   "source": [
    "#### Bu paket Twitterla anlasmis ve sinirsiz veri alma hakki var dev hesabi acmaya gerek  yok. Bu paket ile facebook inst-whatsaptan veri cekilebilir"
   ]
  },
  {
   "cell_type": "code",
   "execution_count": 1,
   "id": "caea9fd8",
   "metadata": {
    "collapsed": true
   },
   "outputs": [
    {
     "name": "stdout",
     "output_type": "stream",
     "text": [
      "Requirement already satisfied: snscrape in c:\\users\\utilisateur\\anaconda3\\lib\\site-packages (0.4.3.20220106)\n",
      "Requirement already satisfied: requests[socks] in c:\\users\\utilisateur\\anaconda3\\lib\\site-packages (from snscrape) (2.27.1)\n",
      "Requirement already satisfied: lxml in c:\\users\\utilisateur\\anaconda3\\lib\\site-packages (from snscrape) (4.8.0)\n",
      "Requirement already satisfied: beautifulsoup4 in c:\\users\\utilisateur\\anaconda3\\lib\\site-packages (from snscrape) (4.11.1)\n",
      "Requirement already satisfied: filelock in c:\\users\\utilisateur\\anaconda3\\lib\\site-packages (from snscrape) (3.6.0)\n",
      "Requirement already satisfied: soupsieve>1.2 in c:\\users\\utilisateur\\anaconda3\\lib\\site-packages (from beautifulsoup4->snscrape) (2.3.1)\n",
      "Requirement already satisfied: charset-normalizer~=2.0.0 in c:\\users\\utilisateur\\anaconda3\\lib\\site-packages (from requests[socks]->snscrape) (2.0.4)\n",
      "Requirement already satisfied: urllib3<1.27,>=1.21.1 in c:\\users\\utilisateur\\anaconda3\\lib\\site-packages (from requests[socks]->snscrape) (1.26.9)\n",
      "Requirement already satisfied: idna<4,>=2.5 in c:\\users\\utilisateur\\anaconda3\\lib\\site-packages (from requests[socks]->snscrape) (3.3)\n",
      "Requirement already satisfied: certifi>=2017.4.17 in c:\\users\\utilisateur\\anaconda3\\lib\\site-packages (from requests[socks]->snscrape) (2021.10.8)\n",
      "Requirement already satisfied: PySocks!=1.5.7,>=1.5.6 in c:\\users\\utilisateur\\anaconda3\\lib\\site-packages (from requests[socks]->snscrape) (1.7.1)\n",
      "Note: you may need to restart the kernel to use updated packages.\n"
     ]
    }
   ],
   "source": [
    "#pip install snscrape"
   ]
  },
  {
   "cell_type": "code",
   "execution_count": 2,
   "id": "c64cbb5a",
   "metadata": {},
   "outputs": [],
   "source": [
    "import snscrape.modules.twitter as sntwitter"
   ]
  },
  {
   "cell_type": "code",
   "execution_count": 3,
   "id": "b1b6c8db",
   "metadata": {},
   "outputs": [],
   "source": [
    "import pandas as pd"
   ]
  },
  {
   "cell_type": "code",
   "execution_count": 20,
   "id": "794d558f",
   "metadata": {},
   "outputs": [
    {
     "name": "stderr",
     "output_type": "stream",
     "text": [
      "C:\\Users\\Utilisateur\\AppData\\Local\\Temp\\ipykernel_3940\\757696577.py:6: FutureWarning: username is deprecated, use user.username instead\n",
      "  tweets.append([tweet.date,tweet.id,tweet.content,tweet.username])\n"
     ]
    }
   ],
   "source": [
    "tweets=[]\n",
    "\n",
    "for i,tweet in enumerate (sntwitter.TwitterSearchScraper('from:elonmusk').get_items()):\n",
    "    if i>1000:\n",
    "        break\n",
    "    tweets.append([tweet.date,tweet.id,tweet.content,tweet.username])"
   ]
  },
  {
   "cell_type": "code",
   "execution_count": 21,
   "id": "d772ce04",
   "metadata": {},
   "outputs": [
    {
     "data": {
      "text/plain": [
       "[datetime.datetime(2022, 11, 21, 19, 22, 25, tzinfo=datetime.timezone.utc),\n",
       " 1594773242626965505,\n",
       " 'Fanaticism is always a function of repressed doubt – Dune',\n",
       " 'elonmusk']"
      ]
     },
     "execution_count": 21,
     "metadata": {},
     "output_type": "execute_result"
    }
   ],
   "source": [
    "tweets[0]"
   ]
  },
  {
   "cell_type": "code",
   "execution_count": 22,
   "id": "c3e288d4",
   "metadata": {},
   "outputs": [],
   "source": [
    "df=pd.DataFrame(tweets,columns=[\"date\",\"tweet_id\",\"Text\",\"Username\"])"
   ]
  },
  {
   "cell_type": "code",
   "execution_count": 23,
   "id": "91d253cd",
   "metadata": {},
   "outputs": [
    {
     "data": {
      "text/html": [
       "<div>\n",
       "<style scoped>\n",
       "    .dataframe tbody tr th:only-of-type {\n",
       "        vertical-align: middle;\n",
       "    }\n",
       "\n",
       "    .dataframe tbody tr th {\n",
       "        vertical-align: top;\n",
       "    }\n",
       "\n",
       "    .dataframe thead th {\n",
       "        text-align: right;\n",
       "    }\n",
       "</style>\n",
       "<table border=\"1\" class=\"dataframe\">\n",
       "  <thead>\n",
       "    <tr style=\"text-align: right;\">\n",
       "      <th></th>\n",
       "      <th>date</th>\n",
       "      <th>tweet_id</th>\n",
       "      <th>Text</th>\n",
       "      <th>Username</th>\n",
       "    </tr>\n",
       "  </thead>\n",
       "  <tbody>\n",
       "    <tr>\n",
       "      <th>0</th>\n",
       "      <td>2022-11-21 19:22:25+00:00</td>\n",
       "      <td>1594773242626965505</td>\n",
       "      <td>Fanaticism is always a function of repressed d...</td>\n",
       "      <td>elonmusk</td>\n",
       "    </tr>\n",
       "    <tr>\n",
       "      <th>1</th>\n",
       "      <td>2022-11-21 18:41:22+00:00</td>\n",
       "      <td>1594762914572906496</td>\n",
       "      <td>Namaste 🙏</td>\n",
       "      <td>elonmusk</td>\n",
       "    </tr>\n",
       "    <tr>\n",
       "      <th>2</th>\n",
       "      <td>2022-11-21 18:38:16+00:00</td>\n",
       "      <td>1594762132163563520</td>\n",
       "      <td>@mysteriouskat It’s a reverse, reverse psychol...</td>\n",
       "      <td>elonmusk</td>\n",
       "    </tr>\n",
       "    <tr>\n",
       "      <th>3</th>\n",
       "      <td>2022-11-21 18:37:29+00:00</td>\n",
       "      <td>1594761935236513802</td>\n",
       "      <td>@mysteriouskat 👀</td>\n",
       "      <td>elonmusk</td>\n",
       "    </tr>\n",
       "    <tr>\n",
       "      <th>4</th>\n",
       "      <td>2022-11-21 18:33:16+00:00</td>\n",
       "      <td>1594760874291392517</td>\n",
       "      <td>@waitbutwhy Absolutely</td>\n",
       "      <td>elonmusk</td>\n",
       "    </tr>\n",
       "  </tbody>\n",
       "</table>\n",
       "</div>"
      ],
      "text/plain": [
       "                       date             tweet_id  \\\n",
       "0 2022-11-21 19:22:25+00:00  1594773242626965505   \n",
       "1 2022-11-21 18:41:22+00:00  1594762914572906496   \n",
       "2 2022-11-21 18:38:16+00:00  1594762132163563520   \n",
       "3 2022-11-21 18:37:29+00:00  1594761935236513802   \n",
       "4 2022-11-21 18:33:16+00:00  1594760874291392517   \n",
       "\n",
       "                                                Text  Username  \n",
       "0  Fanaticism is always a function of repressed d...  elonmusk  \n",
       "1                                          Namaste 🙏  elonmusk  \n",
       "2  @mysteriouskat It’s a reverse, reverse psychol...  elonmusk  \n",
       "3                                   @mysteriouskat 👀  elonmusk  \n",
       "4                             @waitbutwhy Absolutely  elonmusk  "
      ]
     },
     "execution_count": 23,
     "metadata": {},
     "output_type": "execute_result"
    }
   ],
   "source": [
    "df.head()"
   ]
  },
  {
   "cell_type": "code",
   "execution_count": 24,
   "id": "6150ff89",
   "metadata": {},
   "outputs": [
    {
     "data": {
      "text/plain": [
       "(1001, 4)"
      ]
     },
     "execution_count": 24,
     "metadata": {},
     "output_type": "execute_result"
    }
   ],
   "source": [
    "df.shape"
   ]
  },
  {
   "cell_type": "code",
   "execution_count": 26,
   "id": "654ec57b",
   "metadata": {},
   "outputs": [
    {
     "data": {
      "text/plain": [
       "'Fanaticism is always a function of repressed doubt – Dune'"
      ]
     },
     "execution_count": 26,
     "metadata": {},
     "output_type": "execute_result"
    }
   ],
   "source": [
    "df.Text[0]"
   ]
  },
  {
   "cell_type": "code",
   "execution_count": 27,
   "id": "79e074ed",
   "metadata": {},
   "outputs": [],
   "source": [
    "# Burada from dan sonra kullanici ismi yazarsaniz o kisiye ait twitler gelir\n",
    "# Konu cekebiliriz.Togg ile ilgili son 1000 tweet alinabilir"
   ]
  },
  {
   "cell_type": "code",
   "execution_count": 33,
   "id": "fe5c56e8",
   "metadata": {},
   "outputs": [
    {
     "name": "stderr",
     "output_type": "stream",
     "text": [
      "C:\\Users\\Utilisateur\\AppData\\Local\\Temp\\ipykernel_3940\\1959443860.py:6: FutureWarning: username is deprecated, use user.username instead\n",
      "  tweets2.append([tweet.date,tweet.id,tweet.content,tweet.username])\n"
     ]
    }
   ],
   "source": [
    "tweets2=[]\n",
    "\n",
    "for i,tweet in enumerate (sntwitter.TwitterSearchScraper('fifa').get_items()):\n",
    "    if i>1000:\n",
    "        break\n",
    "    tweets2.append([tweet.date,tweet.id,tweet.content,tweet.username])"
   ]
  },
  {
   "cell_type": "code",
   "execution_count": 34,
   "id": "69fb22ef",
   "metadata": {},
   "outputs": [],
   "source": [
    "df2=pd.DataFrame(tweets2,columns=[\"date\",\"tweet_id\",\"Text\",\"Username\"])"
   ]
  },
  {
   "cell_type": "code",
   "execution_count": 35,
   "id": "d10b0765",
   "metadata": {
    "collapsed": true
   },
   "outputs": [
    {
     "data": {
      "text/html": [
       "<div>\n",
       "<style scoped>\n",
       "    .dataframe tbody tr th:only-of-type {\n",
       "        vertical-align: middle;\n",
       "    }\n",
       "\n",
       "    .dataframe tbody tr th {\n",
       "        vertical-align: top;\n",
       "    }\n",
       "\n",
       "    .dataframe thead th {\n",
       "        text-align: right;\n",
       "    }\n",
       "</style>\n",
       "<table border=\"1\" class=\"dataframe\">\n",
       "  <thead>\n",
       "    <tr style=\"text-align: right;\">\n",
       "      <th></th>\n",
       "      <th>date</th>\n",
       "      <th>tweet_id</th>\n",
       "      <th>Text</th>\n",
       "      <th>Username</th>\n",
       "    </tr>\n",
       "  </thead>\n",
       "  <tbody>\n",
       "    <tr>\n",
       "      <th>0</th>\n",
       "      <td>2022-11-21 19:30:36+00:00</td>\n",
       "      <td>1594775303163117569</td>\n",
       "      <td>@oluwapeluumii Lool you RT my tweet then I sai...</td>\n",
       "      <td>Cut33ssay</td>\n",
       "    </tr>\n",
       "    <tr>\n",
       "      <th>1</th>\n",
       "      <td>2022-11-21 19:30:36+00:00</td>\n",
       "      <td>1594775302663962624</td>\n",
       "      <td>World Cup 2022 Qater\\n\\nWATCH📺 United States v...</td>\n",
       "      <td>Livestreaming46</td>\n",
       "    </tr>\n",
       "    <tr>\n",
       "      <th>2</th>\n",
       "      <td>2022-11-21 19:30:36+00:00</td>\n",
       "      <td>1594775301837709312</td>\n",
       "      <td>#USA #Wales #FIFAWorldCup \\n#FIFAWorldCupQatar...</td>\n",
       "      <td>VinayTr03483382</td>\n",
       "    </tr>\n",
       "    <tr>\n",
       "      <th>3</th>\n",
       "      <td>2022-11-21 19:30:36+00:00</td>\n",
       "      <td>1594775301468266499</td>\n",
       "      <td>🔴 LIVE STREAM - United States v Wales - FIFA W...</td>\n",
       "      <td>claudiawong00</td>\n",
       "    </tr>\n",
       "    <tr>\n",
       "      <th>4</th>\n",
       "      <td>2022-11-21 19:30:35+00:00</td>\n",
       "      <td>1594775300759494656</td>\n",
       "      <td>Coupe du Monde 2022 : la FIFA a une nouvelle p...</td>\n",
       "      <td>doingbuzzz</td>\n",
       "    </tr>\n",
       "    <tr>\n",
       "      <th>...</th>\n",
       "      <td>...</td>\n",
       "      <td>...</td>\n",
       "      <td>...</td>\n",
       "      <td>...</td>\n",
       "    </tr>\n",
       "    <tr>\n",
       "      <th>996</th>\n",
       "      <td>2022-11-21 19:25:40+00:00</td>\n",
       "      <td>1594774059996352518</td>\n",
       "      <td>United States vs Wales  live \\n\\n Live Streami...</td>\n",
       "      <td>OnlenSport</td>\n",
       "    </tr>\n",
       "    <tr>\n",
       "      <th>997</th>\n",
       "      <td>2022-11-21 19:25:39+00:00</td>\n",
       "      <td>1594774057870036992</td>\n",
       "      <td>USA vs Wales,Live Stream HD\\nWales vs USA \\n20...</td>\n",
       "      <td>Footbal81826355</td>\n",
       "    </tr>\n",
       "    <tr>\n",
       "      <th>998</th>\n",
       "      <td>2022-11-21 19:25:39+00:00</td>\n",
       "      <td>1594774057538686976</td>\n",
       "      <td>FIFA World Cup 2022                           ...</td>\n",
       "      <td>ROCKY48796759</td>\n",
       "    </tr>\n",
       "    <tr>\n",
       "      <th>999</th>\n",
       "      <td>2022-11-21 19:25:38+00:00</td>\n",
       "      <td>1594774054137114624</td>\n",
       "      <td>Jeden Tag vebietet die Fifa was anderes. Als n...</td>\n",
       "      <td>twigigitwi</td>\n",
       "    </tr>\n",
       "    <tr>\n",
       "      <th>1000</th>\n",
       "      <td>2022-11-21 19:25:38+00:00</td>\n",
       "      <td>1594774053608427520</td>\n",
       "      <td>Look, I'm an NFL fan; FIFA competitions are ba...</td>\n",
       "      <td>zackbeauchamp</td>\n",
       "    </tr>\n",
       "  </tbody>\n",
       "</table>\n",
       "<p>1001 rows × 4 columns</p>\n",
       "</div>"
      ],
      "text/plain": [
       "                          date             tweet_id  \\\n",
       "0    2022-11-21 19:30:36+00:00  1594775303163117569   \n",
       "1    2022-11-21 19:30:36+00:00  1594775302663962624   \n",
       "2    2022-11-21 19:30:36+00:00  1594775301837709312   \n",
       "3    2022-11-21 19:30:36+00:00  1594775301468266499   \n",
       "4    2022-11-21 19:30:35+00:00  1594775300759494656   \n",
       "...                        ...                  ...   \n",
       "996  2022-11-21 19:25:40+00:00  1594774059996352518   \n",
       "997  2022-11-21 19:25:39+00:00  1594774057870036992   \n",
       "998  2022-11-21 19:25:39+00:00  1594774057538686976   \n",
       "999  2022-11-21 19:25:38+00:00  1594774054137114624   \n",
       "1000 2022-11-21 19:25:38+00:00  1594774053608427520   \n",
       "\n",
       "                                                   Text         Username  \n",
       "0     @oluwapeluumii Lool you RT my tweet then I sai...        Cut33ssay  \n",
       "1     World Cup 2022 Qater\\n\\nWATCH📺 United States v...  Livestreaming46  \n",
       "2     #USA #Wales #FIFAWorldCup \\n#FIFAWorldCupQatar...  VinayTr03483382  \n",
       "3     🔴 LIVE STREAM - United States v Wales - FIFA W...    claudiawong00  \n",
       "4     Coupe du Monde 2022 : la FIFA a une nouvelle p...       doingbuzzz  \n",
       "...                                                 ...              ...  \n",
       "996   United States vs Wales  live \\n\\n Live Streami...       OnlenSport  \n",
       "997   USA vs Wales,Live Stream HD\\nWales vs USA \\n20...  Footbal81826355  \n",
       "998   FIFA World Cup 2022                           ...    ROCKY48796759  \n",
       "999   Jeden Tag vebietet die Fifa was anderes. Als n...       twigigitwi  \n",
       "1000  Look, I'm an NFL fan; FIFA competitions are ba...    zackbeauchamp  \n",
       "\n",
       "[1001 rows x 4 columns]"
      ]
     },
     "execution_count": 35,
     "metadata": {},
     "output_type": "execute_result"
    }
   ],
   "source": [
    "df2"
   ]
  },
  {
   "cell_type": "code",
   "execution_count": 36,
   "id": "0ec899b8",
   "metadata": {
    "collapsed": true
   },
   "outputs": [
    {
     "name": "stdout",
     "output_type": "stream",
     "text": [
      "@oluwapeluumii Lool you RT my tweet then I said that I SAID IT TO YOU WITH FULL CHEST 😌 wait it is Fifa that happen now right?\n",
      "World Cup 2022 Qater\n",
      "\n",
      "WATCH📺 United States vs Wales\n",
      " \n",
      "4K LIVE STREAM LINK👉https://t.co/wAJL3depct\n",
      "\n",
      "#FIFAWorldCup2022  #FIFAWorldCupQatar2022  #FIFAWorldCuponFOX #Dreamers2022  #Qater   #FIFA  #WorldCup  #FIFA #WorldCup2022 #USA  #USAWAL #LiveStream #Qatar2022 #USAvWAL  scf\n",
      "#USA #Wales #FIFAWorldCup \n",
      "#FIFAWorldCupQatar2022 #Qatar2022\n",
      "#WorldCup2022\n",
      "\n",
      "🎥Live Stream\n",
      "\n",
      "📺USA vs Wales\n",
      "\n",
      "🔴Live Link▶️ https://t.co/yseOwuopwC\n",
      "🔴Live Link▶️ https://t.co/yseOwuopwC\n",
      "🔴Live Link▶️ https://t.co/yseOwuopwC\n",
      "\n",
      "FIFA World Cup Qatar 2022 🏆\n",
      "\n",
      "hjud\n",
      "🔴 LIVE STREAM - United States v Wales - FIFA World Cup 2022 \n",
      "watch live here :https://t.co/P1wQKZjI2g\n",
      "#FIFAWorldCup2022 #QatarWorldCup2022 #Qatar2022\n",
      "#WorldCup2022 #UnitedStates #Wales #FIFAworldcup\n",
      "Coupe du Monde 2022 : la FIFA a une nouvelle polémique avec la Belgique https://t.co/JoRUTrPO2c\n",
      "JustArsenal News Would FIFA really ban Kane, Messi and Ronaldo if they wore the ‘One L https://t.co/LwY6Bk2hsy\n",
      "#afc #JustArsenal #Arsenal\n",
      "#USA #FIFAWorldCup #Wales\n",
      "#FIFAWorldCupQatar2022 #Qatar2022\n",
      "#WorldCup2022\n",
      "\n",
      "🎥Live Stream\n",
      "\n",
      "📺USA vs Wales\n",
      "\n",
      "🔴Live Link▶️ https://t.co/23A0WLqm3y\n",
      "🔴Live Link▶️ https://t.co/23A0WLqm3y\n",
      "🔴Live Link▶️ https://t.co/23A0WLqm3y\n",
      "\n",
      "FIFA World Cup Qatar 2022 🏆\n",
      "\n",
      "tsdz\n",
      "Wie Qatar boykottéiert sollt dann och all aner FIFA Produite boykottéieren. WM ka just existéiere well se keng Wäerter vertrëtt an \"apolitesch\" ass soubal et onbequem gëtt. Dat war nach ëmmer sou. Et wäert nie méi si wéi Brout a Spiller (a Profit).\n",
      "Belgium has to take the Word „love“ of their jerseys #FIFA says. If you delete love where you go?\n",
      "Skal vi ikke lige huske, at Hjulmand for et år siden fik prisen som Årets Ally ved sidste års Rainbow Award. \n",
      "Det var vist før Fifa stod og viftede med gule kort.\n"
     ]
    }
   ],
   "source": [
    "for i in range(10):\n",
    "    print(df2.Text[i])\n"
   ]
  },
  {
   "cell_type": "markdown",
   "id": "22e3fdb9",
   "metadata": {},
   "source": [
    "for i,tweet in enumerate (sntwitter.TwitterSearchScraper('fifa since:2022-10-11 until:2022-10-30).get_items()): # tarih araligi girmek istersek\n",
    "\n",
    "\n",
    "for i,tweet in enumerate (sntwitter.TwitterSearchScraper('fifa near:\"Los Angeles\" within:10km').get_items()): # yer ve merkezden ne kadar capta aramak istiyoruz\n",
    "\n",
    "for i,tweet in enumerate (sntwitter.TwitterSearchScraper('fifa geocode:\"34.052535,-118.243668, 100km\"').get_items()): # enlem boylam girip 100km capinda arama yapmak"
   ]
  },
  {
   "cell_type": "code",
   "execution_count": 38,
   "id": "1855c2ae",
   "metadata": {},
   "outputs": [
    {
     "name": "stderr",
     "output_type": "stream",
     "text": [
      "C:\\Users\\Utilisateur\\AppData\\Local\\Temp\\ipykernel_3940\\656675472.py:6: FutureWarning: username is deprecated, use user.username instead\n",
      "  tweets3.append([tweet.date,tweet.id,tweet.content,tweet.username])\n"
     ]
    }
   ],
   "source": [
    "tweets3=[]\n",
    "\n",
    "for i,tweet in enumerate (sntwitter.TwitterSearchScraper('energie geocode:\"46.53130,6.62880,10km\"').get_items()):\n",
    "    if i>100:\n",
    "        break\n",
    "    tweets3.append([tweet.date,tweet.id,tweet.content,tweet.username])\n",
    "    \n",
    "# Lausanne da 10km capinda energie ile ilgili tweet atanlar"
   ]
  },
  {
   "cell_type": "code",
   "execution_count": 39,
   "id": "ef8b0cac",
   "metadata": {},
   "outputs": [],
   "source": [
    "df3=pd.DataFrame(tweets3,columns=[\"date\",\"tweet_id\",\"Text\",\"Username\"])"
   ]
  },
  {
   "cell_type": "code",
   "execution_count": 40,
   "id": "b03afdda",
   "metadata": {},
   "outputs": [
    {
     "data": {
      "text/html": [
       "<div>\n",
       "<style scoped>\n",
       "    .dataframe tbody tr th:only-of-type {\n",
       "        vertical-align: middle;\n",
       "    }\n",
       "\n",
       "    .dataframe tbody tr th {\n",
       "        vertical-align: top;\n",
       "    }\n",
       "\n",
       "    .dataframe thead th {\n",
       "        text-align: right;\n",
       "    }\n",
       "</style>\n",
       "<table border=\"1\" class=\"dataframe\">\n",
       "  <thead>\n",
       "    <tr style=\"text-align: right;\">\n",
       "      <th></th>\n",
       "      <th>date</th>\n",
       "      <th>tweet_id</th>\n",
       "      <th>Text</th>\n",
       "      <th>Username</th>\n",
       "    </tr>\n",
       "  </thead>\n",
       "  <tbody>\n",
       "    <tr>\n",
       "      <th>0</th>\n",
       "      <td>2022-11-21 13:49:02+00:00</td>\n",
       "      <td>1594689345407033351</td>\n",
       "      <td>@GCTOIS Pour l'instant on a quatre decks. Moi ...</td>\n",
       "      <td>alexandre_xav</td>\n",
       "    </tr>\n",
       "    <tr>\n",
       "      <th>1</th>\n",
       "      <td>2022-11-21 07:02:29+00:00</td>\n",
       "      <td>1594587035100385282</td>\n",
       "      <td>Pénurie d'énergie: faut-il renoncer aux décora...</td>\n",
       "      <td>WatsonActu</td>\n",
       "    </tr>\n",
       "    <tr>\n",
       "      <th>2</th>\n",
       "      <td>2022-11-20 08:14:42+00:00</td>\n",
       "      <td>1594242818297446401</td>\n",
       "      <td>Ce gaz venu de France pourrait nous sauver de ...</td>\n",
       "      <td>WatsonActu</td>\n",
       "    </tr>\n",
       "    <tr>\n",
       "      <th>3</th>\n",
       "      <td>2022-11-20 05:33:34+00:00</td>\n",
       "      <td>1594202267217166336</td>\n",
       "      <td>Le vice-président d'Alpiq prévoit un manque d'...</td>\n",
       "      <td>PMEmagazine_</td>\n",
       "    </tr>\n",
       "    <tr>\n",
       "      <th>4</th>\n",
       "      <td>2022-11-18 23:17:26+00:00</td>\n",
       "      <td>1593745224060538880</td>\n",
       "      <td>@ZStadtfux @c_caviglia Zum Energie sparen?</td>\n",
       "      <td>buercher</td>\n",
       "    </tr>\n",
       "    <tr>\n",
       "      <th>...</th>\n",
       "      <td>...</td>\n",
       "      <td>...</td>\n",
       "      <td>...</td>\n",
       "      <td>...</td>\n",
       "    </tr>\n",
       "    <tr>\n",
       "      <th>96</th>\n",
       "      <td>2021-01-09 17:59:04+00:00</td>\n",
       "      <td>1347966131357822976</td>\n",
       "      <td>Que fait le référendum pour une écologie socia...</td>\n",
       "      <td>buercher</td>\n",
       "    </tr>\n",
       "    <tr>\n",
       "      <th>97</th>\n",
       "      <td>2021-01-01 09:19:29+00:00</td>\n",
       "      <td>1344936272117293056</td>\n",
       "      <td>Toute l’équipe du Prix RH Numérique vous souha...</td>\n",
       "      <td>PrixRHNumerique</td>\n",
       "    </tr>\n",
       "    <tr>\n",
       "      <th>98</th>\n",
       "      <td>2020-12-21 18:06:16+00:00</td>\n",
       "      <td>1341082572936232961</td>\n",
       "      <td>J'ai l'impression que les gens sont plus près ...</td>\n",
       "      <td>DentDes4bre</td>\n",
       "    </tr>\n",
       "    <tr>\n",
       "      <th>99</th>\n",
       "      <td>2020-12-03 10:34:52+00:00</td>\n",
       "      <td>1334445992549216257</td>\n",
       "      <td>@puur Mooi om te zien dat je nieuwe energie kr...</td>\n",
       "      <td>jolanda_hains</td>\n",
       "    </tr>\n",
       "    <tr>\n",
       "      <th>100</th>\n",
       "      <td>2020-11-19 11:14:20+00:00</td>\n",
       "      <td>1329382494819454976</td>\n",
       "      <td>@alf_gant @BurnControllers @maekuii Je leve me...</td>\n",
       "      <td>SoLoWq_</td>\n",
       "    </tr>\n",
       "  </tbody>\n",
       "</table>\n",
       "<p>101 rows × 4 columns</p>\n",
       "</div>"
      ],
      "text/plain": [
       "                         date             tweet_id  \\\n",
       "0   2022-11-21 13:49:02+00:00  1594689345407033351   \n",
       "1   2022-11-21 07:02:29+00:00  1594587035100385282   \n",
       "2   2022-11-20 08:14:42+00:00  1594242818297446401   \n",
       "3   2022-11-20 05:33:34+00:00  1594202267217166336   \n",
       "4   2022-11-18 23:17:26+00:00  1593745224060538880   \n",
       "..                        ...                  ...   \n",
       "96  2021-01-09 17:59:04+00:00  1347966131357822976   \n",
       "97  2021-01-01 09:19:29+00:00  1344936272117293056   \n",
       "98  2020-12-21 18:06:16+00:00  1341082572936232961   \n",
       "99  2020-12-03 10:34:52+00:00  1334445992549216257   \n",
       "100 2020-11-19 11:14:20+00:00  1329382494819454976   \n",
       "\n",
       "                                                  Text         Username  \n",
       "0    @GCTOIS Pour l'instant on a quatre decks. Moi ...    alexandre_xav  \n",
       "1    Pénurie d'énergie: faut-il renoncer aux décora...       WatsonActu  \n",
       "2    Ce gaz venu de France pourrait nous sauver de ...       WatsonActu  \n",
       "3    Le vice-président d'Alpiq prévoit un manque d'...     PMEmagazine_  \n",
       "4           @ZStadtfux @c_caviglia Zum Energie sparen?         buercher  \n",
       "..                                                 ...              ...  \n",
       "96   Que fait le référendum pour une écologie socia...         buercher  \n",
       "97   Toute l’équipe du Prix RH Numérique vous souha...  PrixRHNumerique  \n",
       "98   J'ai l'impression que les gens sont plus près ...      DentDes4bre  \n",
       "99   @puur Mooi om te zien dat je nieuwe energie kr...    jolanda_hains  \n",
       "100  @alf_gant @BurnControllers @maekuii Je leve me...          SoLoWq_  \n",
       "\n",
       "[101 rows x 4 columns]"
      ]
     },
     "execution_count": 40,
     "metadata": {},
     "output_type": "execute_result"
    }
   ],
   "source": [
    "df3"
   ]
  },
  {
   "cell_type": "code",
   "execution_count": 42,
   "id": "741c1d2a",
   "metadata": {},
   "outputs": [
    {
     "name": "stdout",
     "output_type": "stream",
     "text": [
      "0 @GCTOIS Pour l'instant on a quatre decks. Moi je joue avec les deux en anglais et mon fils ceux en français. Et on respecte encore les types d'énergie. Et je me demande si c'est pas plus agréable et rapide de jouer avec un deck d'un seul type pour augmenter les chances de pouvoir évoluer\n",
      "1 Pénurie d'énergie: faut-il renoncer aux décorations lumineuses ce Noël? https://t.co/K3OIhWdXV9\n",
      "2 Ce gaz venu de France pourrait nous sauver de la pénurie d'énergie, mais il y a un problème https://t.co/VGQ3bVJDyZ\n",
      "3 Le vice-président d'Alpiq prévoit un manque d'énergie persistant https://t.co/sVJicjA3gV\n",
      "4 @ZStadtfux @c_caviglia Zum Energie sparen?\n",
      "5 @Vincent_Cotugno @FBonnafy Quand je lis votre histoire, et celle des autres dans cette TL, j'ai honte pour l'état français et pour la manière inepte avec laquelle il gaspille le temps  l'énergie et la motivation de ses employés\n",
      "6 J’ai une pote qui m’a proposé d’aller boire un verre ce soir, mais j’ai tellement pas le moral, j’ai aucune force ni énergie pour sortir\n",
      "7 Christian Petit, CEO of Romande Energie is sharing his thoughts on the topic https://t.co/boUD1EHZU4\n",
      "8 Magnifique projet porté par mon Collègue @pahildbrand et une belle collaboration avec les @SiLausanne, #SIREN et les services de notre Collègue @NLitzistorf.\n",
      "Quand rénovation, protection de la biodiversité et production d’énergie se rencontrent pour un combo gagnant ! https://t.co/HZE4vwXWJD\n",
      "9 Végétalisation de la toiture et pose de panneaux solaires sur la caserne des sapeurs-pompiers de Lausanne. L’installation solaire permettra d'alimenter le bâtiment en énergie et une partie sera utilisée dans la formation des sapeurs-pompiers.\n",
      "Plus d'infos: https://t.co/CGGtlljjRV\n"
     ]
    }
   ],
   "source": [
    "for i in range(10):\n",
    "    print(i,df3.Text[i])"
   ]
  },
  {
   "cell_type": "code",
   "execution_count": null,
   "id": "9dfa3670",
   "metadata": {},
   "outputs": [],
   "source": []
  }
 ],
 "metadata": {
  "kernelspec": {
   "display_name": "Python 3 (ipykernel)",
   "language": "python",
   "name": "python3"
  },
  "language_info": {
   "codemirror_mode": {
    "name": "ipython",
    "version": 3
   },
   "file_extension": ".py",
   "mimetype": "text/x-python",
   "name": "python",
   "nbconvert_exporter": "python",
   "pygments_lexer": "ipython3",
   "version": "3.9.12"
  }
 },
 "nbformat": 4,
 "nbformat_minor": 5
}
